{
  "cells": [
    {
      "cell_type": "markdown",
      "id": "6738d0d0",
      "metadata": {},
      "source": [
        "# Data Science Tools and Ecosystem"
      ]
    },
    {
      "cell_type": "markdown",
      "id": "6b180370",
      "metadata": {},
      "source": [
        "In this notebook, Data Science Tools and Ecosystem are summarized."
      ]
    },
    {
      "cell_type": "markdown",
      "id": "e60c5ca6",
      "metadata": {},
      "source": [
        "Some of the popular languages that Data Scientists use are:\n",
        "1. Python\n",
        "2. R\n",
        "3. SQL"
      ]
    },
    {
      "cell_type": "markdown",
      "id": "ca185f30",
      "metadata": {},
      "source": [
        "Some of the commonly used libraries used by Data Scientists include:\n",
        "1. Pandas\n",
        "2. NumPy\n",
        "3. Matplotlib"
      ]
    },
    {
      "cell_type": "markdown",
      "id": "4cd3cb3c",
      "metadata": {},
      "source": [
        "| Data Science Tools |\n",
        "|--------------------|\n",
        "| Jupyter Notebook   |\n",
        "| RStudio            |\n",
        "| Apache Zeppelin    |"
      ]
    },
    {
      "cell_type": "markdown",
      "id": "42662e3b",
      "metadata": {},
      "source": [
        "### Below are a few examples of evaluating arithmetic expressions in Python."
      ]
    },
    {
      "cell_type": "code",
      "execution_count": null,
      "id": "1b4a6369",
      "metadata": {},
      "outputs": [],
      "source": [
        "# This is a simple arithmetic expression to multiply then add integers\n",
        "(3 * 4) + 5"
      ]
    },
    {
      "cell_type": "code",
      "execution_count": null,
      "id": "e5ee4276",
      "metadata": {},
      "outputs": [],
      "source": [
        "# This will convert 200 minutes to hours by dividing by 60\n",
        "200 / 60"
      ]
    },
    {
      "cell_type": "markdown",
      "id": "7b50d1d3",
      "metadata": {},
      "source": [
        "**Objectives:**\n",
        "- List popular languages for Data Science\n",
        "- Identify commonly used data science libraries\n",
        "- Describe tools used in the data science ecosystem\n",
        "- Demonstrate simple arithmetic expressions in Python\n",
        "- Convert time units using Python"
      ]
    },
    {
      "cell_type": "markdown",
      "id": "6297fa11",
      "metadata": {},
      "source": [
        "## Author\n",
        "Piyush Mujmule"
      ]
    }
  ],
  "metadata": {},
  "nbformat": 4,
  "nbformat_minor": 5
}